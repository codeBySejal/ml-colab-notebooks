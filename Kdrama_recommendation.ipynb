{
  "nbformat": 4,
  "nbformat_minor": 0,
  "metadata": {
    "colab": {
      "provenance": [],
      "gpuType": "T4",
      "authorship_tag": "ABX9TyNAh+kWESNth79AIxbLpCwb",
      "include_colab_link": true
    },
    "kernelspec": {
      "name": "python3",
      "display_name": "Python 3"
    },
    "language_info": {
      "name": "python"
    },
    "accelerator": "GPU"
  },
  "cells": [
    {
      "cell_type": "markdown",
      "metadata": {
        "id": "view-in-github",
        "colab_type": "text"
      },
      "source": [
        "<a href=\"https://colab.research.google.com/github/codeBySejal/ml-colab-notebooks/blob/main/Kdrama_recommendation.ipynb\" target=\"_parent\"><img src=\"https://colab.research.google.com/assets/colab-badge.svg\" alt=\"Open In Colab\"/></a>"
      ]
    },
    {
      "cell_type": "code",
      "source": [
        "#Download dataset via Kaggle CLI\n",
        "!kaggle datasets download ahbab911/top-250-korean-dramas-kdrama-dataset"
      ],
      "metadata": {
        "colab": {
          "base_uri": "https://localhost:8080/"
        },
        "id": "dEX_60BOWJVV",
        "outputId": "b620263e-fe88-4042-e093-3219aadaf876"
      },
      "execution_count": 1,
      "outputs": [
        {
          "output_type": "stream",
          "name": "stdout",
          "text": [
            "Dataset URL: https://www.kaggle.com/datasets/ahbab911/top-250-korean-dramas-kdrama-dataset\n",
            "License(s): CC0-1.0\n",
            "Downloading top-250-korean-dramas-kdrama-dataset.zip to /content\n",
            "  0% 0.00/89.9k [00:00<?, ?B/s]\n",
            "100% 89.9k/89.9k [00:00<00:00, 64.8MB/s]\n"
          ]
        }
      ]
    },
    {
      "cell_type": "code",
      "source": [
        "import pandas as pd\n",
        "kdrama_df = pd.read_csv('/content/top-250-korean-dramas-kdrama-dataset.zip')\n",
        "print(kdrama_df.head())"
      ],
      "metadata": {
        "colab": {
          "base_uri": "https://localhost:8080/"
        },
        "id": "31U5-9oiWP_g",
        "outputId": "c9137f49-5ae0-4fb0-9ab7-dee11e7ec5ec"
      },
      "execution_count": 51,
      "outputs": [
        {
          "output_type": "stream",
          "name": "stdout",
          "text": [
            "                  Name                   Aired Date  Year of release  \\\n",
            "0       Move to Heaven                 May 14, 2021             2021   \n",
            "1       Flower of Evil  Jul 29, 2020 - Sep 23, 2020             2020   \n",
            "2    Hospital Playlist  Mar 12, 2020 - May 28, 2020             2020   \n",
            "3  Hospital Playlist 2  Jun 17, 2021 - Sep 16, 2021             2021   \n",
            "4            My Mister  Mar 21, 2018 - May 17, 2018             2018   \n",
            "\n",
            "  Original Network              Aired On  Number of Episodes       Duration  \\\n",
            "0          Netflix                Friday                  10        52 min.   \n",
            "1              tvN   Wednesday, Thursday                  16  1 hr. 10 min.   \n",
            "2   Netflix,  tvN               Thursday                  12  1 hr. 30 min.   \n",
            "3   Netflix,  tvN               Thursday                  12  1 hr. 40 min.   \n",
            "4              tvN   Wednesday, Thursday                  16  1 hr. 17 min.   \n",
            "\n",
            "                          Content Rating  Rating  \\\n",
            "0  18+ Restricted (violence & profanity)     9.2   \n",
            "1                15+ - Teens 15 or older     9.1   \n",
            "2                15+ - Teens 15 or older     9.1   \n",
            "3                15+ - Teens 15 or older     9.1   \n",
            "4                15+ - Teens 15 or older     9.1   \n",
            "\n",
            "                                            Synopsis  \\\n",
            "0  Geu Roo is a young autistic man. He works for ...   \n",
            "1  Although Baek Hee Sung is hiding a dark secret...   \n",
            "2  The stories of people going through their days...   \n",
            "3  Everyday is extraordinary for five doctors and...   \n",
            "4  Park Dong Hoon is a middle-aged engineer who i...   \n",
            "\n",
            "                                     Genre  \\\n",
            "0                   Life,  Drama,  Family    \n",
            "1  Thriller,  Romance,  Crime,  Melodrama    \n",
            "2   Friendship,  Romance,  Life,  Medical    \n",
            "3   Friendship,  Romance,  Life,  Medical    \n",
            "4   Psychological,  Life,  Drama,  Family    \n",
            "\n",
            "                                                Tags  \\\n",
            "0  Autism, Uncle-Nephew Relationship, Death, Sava...   \n",
            "1  Married Couple, Deception, Suspense, Family Se...   \n",
            "2  Strong Friendship, Multiple Mains, Best Friend...   \n",
            "3  Workplace, Strong Friendship, Best Friends, Mu...   \n",
            "4  Age Gap, Nice Male Lead, Strong Female Lead, H...   \n",
            "\n",
            "                     Director    Screenwriter  \\\n",
            "0                 Kim Sung Ho    Yoon Ji Ryun   \n",
            "1  Kim Chul Gyu, Yoon Jong Ho    Yoo Jung Hee   \n",
            "2                 Shin Won Ho    Lee Woo Jung   \n",
            "3                 Shin Won Ho    Lee Woo Jung   \n",
            "4   Kim Won Suk, Kim Sang Woo  Park Hae Young   \n",
            "\n",
            "                                                Cast  \\\n",
            "0  Lee Je Hoon, Tang Jun Sang, Hong Seung Hee, Ju...   \n",
            "1  Lee Joon Gi, Moon Chae Won, Jang Hee Jin, Seo ...   \n",
            "2  Jo Jung Suk, Yoo Yeon Seok, Jung Kyung Ho, Kim...   \n",
            "3  Jo Jung Suk, Yoo Yeon Seok, Jung Kyung Ho, Kim...   \n",
            "4  Lee Sun Kyun, IU, Park Ho San, Song Sae Byuk, ...   \n",
            "\n",
            "                   Production companies Rank  \n",
            "0  Page One Film, Number Three Pictures   #1  \n",
            "1                         Monster Union   #2  \n",
            "2                 Egg Is Coming, CJ ENM   #3  \n",
            "3                 Egg Is Coming, CJ ENM   #4  \n",
            "4                      Chorokbaem Media   #5  \n"
          ]
        }
      ]
    },
    {
      "cell_type": "code",
      "source": [
        "#features\n",
        "print(kdrama_df.columns)"
      ],
      "metadata": {
        "colab": {
          "base_uri": "https://localhost:8080/"
        },
        "id": "m_XhzBZYXCBJ",
        "outputId": "2ca8ed26-372f-42ce-fcf2-9db8af1186f8"
      },
      "execution_count": 53,
      "outputs": [
        {
          "output_type": "stream",
          "name": "stdout",
          "text": [
            "Index(['Name', 'Aired Date', 'Year of release', 'Original Network', 'Aired On',\n",
            "       'Number of Episodes', 'Duration', 'Content Rating', 'Rating',\n",
            "       'Synopsis', 'Genre', 'Tags', 'Director', 'Screenwriter', 'Cast',\n",
            "       'Production companies', 'Rank'],\n",
            "      dtype='object')\n"
          ]
        }
      ]
    },
    {
      "cell_type": "code",
      "source": [
        "kdrama_df.loc[0]"
      ],
      "metadata": {
        "colab": {
          "base_uri": "https://localhost:8080/",
          "height": 617
        },
        "id": "fu6eTHqIXkZb",
        "outputId": "e1b386e5-a4d4-41dc-989d-b9e35f3444f8"
      },
      "execution_count": 54,
      "outputs": [
        {
          "output_type": "execute_result",
          "data": {
            "text/plain": [
              "Name                                                       Move to Heaven\n",
              "Aired Date                                                   May 14, 2021\n",
              "Year of release                                                      2021\n",
              "Original Network                                                  Netflix\n",
              "Aired On                                                           Friday\n",
              "Number of Episodes                                                     10\n",
              "Duration                                                          52 min.\n",
              "Content Rating                      18+ Restricted (violence & profanity)\n",
              "Rating                                                                9.2\n",
              "Synopsis                Geu Roo is a young autistic man. He works for ...\n",
              "Genre                                              Life,  Drama,  Family \n",
              "Tags                    Autism, Uncle-Nephew Relationship, Death, Sava...\n",
              "Director                                                      Kim Sung Ho\n",
              "Screenwriter                                                 Yoon Ji Ryun\n",
              "Cast                    Lee Je Hoon, Tang Jun Sang, Hong Seung Hee, Ju...\n",
              "Production companies                 Page One Film, Number Three Pictures\n",
              "Rank                                                                   #1\n",
              "Name: 0, dtype: object"
            ],
            "text/html": [
              "<div>\n",
              "<style scoped>\n",
              "    .dataframe tbody tr th:only-of-type {\n",
              "        vertical-align: middle;\n",
              "    }\n",
              "\n",
              "    .dataframe tbody tr th {\n",
              "        vertical-align: top;\n",
              "    }\n",
              "\n",
              "    .dataframe thead th {\n",
              "        text-align: right;\n",
              "    }\n",
              "</style>\n",
              "<table border=\"1\" class=\"dataframe\">\n",
              "  <thead>\n",
              "    <tr style=\"text-align: right;\">\n",
              "      <th></th>\n",
              "      <th>0</th>\n",
              "    </tr>\n",
              "  </thead>\n",
              "  <tbody>\n",
              "    <tr>\n",
              "      <th>Name</th>\n",
              "      <td>Move to Heaven</td>\n",
              "    </tr>\n",
              "    <tr>\n",
              "      <th>Aired Date</th>\n",
              "      <td>May 14, 2021</td>\n",
              "    </tr>\n",
              "    <tr>\n",
              "      <th>Year of release</th>\n",
              "      <td>2021</td>\n",
              "    </tr>\n",
              "    <tr>\n",
              "      <th>Original Network</th>\n",
              "      <td>Netflix</td>\n",
              "    </tr>\n",
              "    <tr>\n",
              "      <th>Aired On</th>\n",
              "      <td>Friday</td>\n",
              "    </tr>\n",
              "    <tr>\n",
              "      <th>Number of Episodes</th>\n",
              "      <td>10</td>\n",
              "    </tr>\n",
              "    <tr>\n",
              "      <th>Duration</th>\n",
              "      <td>52 min.</td>\n",
              "    </tr>\n",
              "    <tr>\n",
              "      <th>Content Rating</th>\n",
              "      <td>18+ Restricted (violence &amp; profanity)</td>\n",
              "    </tr>\n",
              "    <tr>\n",
              "      <th>Rating</th>\n",
              "      <td>9.2</td>\n",
              "    </tr>\n",
              "    <tr>\n",
              "      <th>Synopsis</th>\n",
              "      <td>Geu Roo is a young autistic man. He works for ...</td>\n",
              "    </tr>\n",
              "    <tr>\n",
              "      <th>Genre</th>\n",
              "      <td>Life,  Drama,  Family</td>\n",
              "    </tr>\n",
              "    <tr>\n",
              "      <th>Tags</th>\n",
              "      <td>Autism, Uncle-Nephew Relationship, Death, Sava...</td>\n",
              "    </tr>\n",
              "    <tr>\n",
              "      <th>Director</th>\n",
              "      <td>Kim Sung Ho</td>\n",
              "    </tr>\n",
              "    <tr>\n",
              "      <th>Screenwriter</th>\n",
              "      <td>Yoon Ji Ryun</td>\n",
              "    </tr>\n",
              "    <tr>\n",
              "      <th>Cast</th>\n",
              "      <td>Lee Je Hoon, Tang Jun Sang, Hong Seung Hee, Ju...</td>\n",
              "    </tr>\n",
              "    <tr>\n",
              "      <th>Production companies</th>\n",
              "      <td>Page One Film, Number Three Pictures</td>\n",
              "    </tr>\n",
              "    <tr>\n",
              "      <th>Rank</th>\n",
              "      <td>#1</td>\n",
              "    </tr>\n",
              "  </tbody>\n",
              "</table>\n",
              "</div><br><label><b>dtype:</b> object</label>"
            ]
          },
          "metadata": {},
          "execution_count": 54
        }
      ]
    },
    {
      "cell_type": "code",
      "source": [
        "kdrama_df.loc[0]['Synopsis']"
      ],
      "metadata": {
        "colab": {
          "base_uri": "https://localhost:8080/",
          "height": 107
        },
        "id": "GDdh1A3tXzZ2",
        "outputId": "5e0f5648-9fda-4c37-8a13-fca7a37e65cf"
      },
      "execution_count": 55,
      "outputs": [
        {
          "output_type": "execute_result",
          "data": {
            "text/plain": [
              "\"Geu Roo is a young autistic man. He works for his father’s business “Move To Heaven.” Their job is to arrange items left by deceased people. One day, Geu Roo's own father dies. Geu Roo is left alone, but his uncle Sang Koo suddenly appears in front of him. Sang Koo is a cold man. He was a martial artist who fought in underground matches. He went to prison because of what happened at his fight. Sang Koo now becomes Geu Roo’s guardian. They run “Move To Heaven” together.\""
            ],
            "application/vnd.google.colaboratory.intrinsic+json": {
              "type": "string"
            }
          },
          "metadata": {},
          "execution_count": 55
        }
      ]
    },
    {
      "cell_type": "code",
      "source": [
        "kdrama_df.loc[0]['Tags']"
      ],
      "metadata": {
        "colab": {
          "base_uri": "https://localhost:8080/",
          "height": 53
        },
        "id": "xWYvHu_8YJi3",
        "outputId": "f04bcd86-2697-4d95-cda1-b81f58771e02"
      },
      "execution_count": 56,
      "outputs": [
        {
          "output_type": "execute_result",
          "data": {
            "text/plain": [
              "'Autism, Uncle-Nephew Relationship, Death, Savant Syndrome, Mourning, Tearjerker, Father-Son Relationship, Life Lesson, Ex-convict, Cleaning And Organizing'"
            ],
            "application/vnd.google.colaboratory.intrinsic+json": {
              "type": "string"
            }
          },
          "metadata": {},
          "execution_count": 56
        }
      ]
    },
    {
      "cell_type": "code",
      "source": [
        "kdrama_df['embedding_text'] = kdrama_df['Genre'] + ' ' + kdrama_df['Cast'] + ' ' + kdrama_df['Tags']"
      ],
      "metadata": {
        "id": "vZndj6vIYdK8"
      },
      "execution_count": 75,
      "outputs": []
    },
    {
      "cell_type": "code",
      "source": [
        "kdrama_df['embedding_text']"
      ],
      "metadata": {
        "colab": {
          "base_uri": "https://localhost:8080/",
          "height": 458
        },
        "id": "giaVqlTYZCrf",
        "outputId": "2a6bd2bc-bd7c-4b84-e091-bf73a2951694"
      },
      "execution_count": 77,
      "outputs": [
        {
          "output_type": "execute_result",
          "data": {
            "text/plain": [
              "0      Life,  Drama,  Family  Lee Je Hoon, Tang Jun S...\n",
              "1      Thriller,  Romance,  Crime,  Melodrama  Lee Jo...\n",
              "2      Friendship,  Romance,  Life,  Medical  Jo Jung...\n",
              "3      Friendship,  Romance,  Life,  Medical  Jo Jung...\n",
              "4      Psychological,  Life,  Drama,  Family  Lee Sun...\n",
              "                             ...                        \n",
              "245    Historical, Romance, Medical, Fantasy Kim Nam ...\n",
              "246    Historical, Romance, Melodrama, Political Park...\n",
              "247    Law, Romance, Life, Drama Lee Sung Min, Kim Je...\n",
              "248    Horror, Comedy, Romance, Fantasy Lee Seung Gi,...\n",
              "249    Action, Thriller, Mystery, Crime Lee  Ha Na, S...\n",
              "Name: embedding_text, Length: 250, dtype: object"
            ],
            "text/html": [
              "<div>\n",
              "<style scoped>\n",
              "    .dataframe tbody tr th:only-of-type {\n",
              "        vertical-align: middle;\n",
              "    }\n",
              "\n",
              "    .dataframe tbody tr th {\n",
              "        vertical-align: top;\n",
              "    }\n",
              "\n",
              "    .dataframe thead th {\n",
              "        text-align: right;\n",
              "    }\n",
              "</style>\n",
              "<table border=\"1\" class=\"dataframe\">\n",
              "  <thead>\n",
              "    <tr style=\"text-align: right;\">\n",
              "      <th></th>\n",
              "      <th>embedding_text</th>\n",
              "    </tr>\n",
              "  </thead>\n",
              "  <tbody>\n",
              "    <tr>\n",
              "      <th>0</th>\n",
              "      <td>Life,  Drama,  Family  Lee Je Hoon, Tang Jun S...</td>\n",
              "    </tr>\n",
              "    <tr>\n",
              "      <th>1</th>\n",
              "      <td>Thriller,  Romance,  Crime,  Melodrama  Lee Jo...</td>\n",
              "    </tr>\n",
              "    <tr>\n",
              "      <th>2</th>\n",
              "      <td>Friendship,  Romance,  Life,  Medical  Jo Jung...</td>\n",
              "    </tr>\n",
              "    <tr>\n",
              "      <th>3</th>\n",
              "      <td>Friendship,  Romance,  Life,  Medical  Jo Jung...</td>\n",
              "    </tr>\n",
              "    <tr>\n",
              "      <th>4</th>\n",
              "      <td>Psychological,  Life,  Drama,  Family  Lee Sun...</td>\n",
              "    </tr>\n",
              "    <tr>\n",
              "      <th>...</th>\n",
              "      <td>...</td>\n",
              "    </tr>\n",
              "    <tr>\n",
              "      <th>245</th>\n",
              "      <td>Historical, Romance, Medical, Fantasy Kim Nam ...</td>\n",
              "    </tr>\n",
              "    <tr>\n",
              "      <th>246</th>\n",
              "      <td>Historical, Romance, Melodrama, Political Park...</td>\n",
              "    </tr>\n",
              "    <tr>\n",
              "      <th>247</th>\n",
              "      <td>Law, Romance, Life, Drama Lee Sung Min, Kim Je...</td>\n",
              "    </tr>\n",
              "    <tr>\n",
              "      <th>248</th>\n",
              "      <td>Horror, Comedy, Romance, Fantasy Lee Seung Gi,...</td>\n",
              "    </tr>\n",
              "    <tr>\n",
              "      <th>249</th>\n",
              "      <td>Action, Thriller, Mystery, Crime Lee  Ha Na, S...</td>\n",
              "    </tr>\n",
              "  </tbody>\n",
              "</table>\n",
              "<p>250 rows × 1 columns</p>\n",
              "</div><br><label><b>dtype:</b> object</label>"
            ]
          },
          "metadata": {},
          "execution_count": 77
        }
      ]
    },
    {
      "cell_type": "code",
      "source": [
        "import re\n",
        "import nltk\n",
        "from nltk.stem import WordNetLemmatizer\n",
        "from nltk.corpus import stopwords\n",
        "nltk.download('stopwords')\n",
        "nltk.download('wordnet')\n",
        "lemmatizer = WordNetLemmatizer()\n",
        "\n",
        "kdrama_corpus = []\n",
        "for index, text in enumerate(kdrama_df['embedding_text']):\n",
        "  text = re.sub('[^a-zA-Z]', ' ', text)\n",
        "  lowercase_text = text.lower()\n",
        "  lowercase_text = lowercase_text.split()\n",
        "  refined_text = [word for word in lowercase_text if word not in set(stopwords.words('english'))]\n",
        "  lemmatized_text = [lemmatizer.lemmatize(word) for word in refined_text]\n",
        "  kdrama_corpus.append(' '.join(lemmatized_text))\n"
      ],
      "metadata": {
        "colab": {
          "base_uri": "https://localhost:8080/"
        },
        "id": "FvUFxn31ZG-N",
        "outputId": "bbc8d19f-5207-4890-a04a-d4d6820eacf4"
      },
      "execution_count": 78,
      "outputs": [
        {
          "output_type": "stream",
          "name": "stderr",
          "text": [
            "[nltk_data] Downloading package stopwords to /root/nltk_data...\n",
            "[nltk_data]   Package stopwords is already up-to-date!\n",
            "[nltk_data] Downloading package wordnet to /root/nltk_data...\n",
            "[nltk_data]   Package wordnet is already up-to-date!\n"
          ]
        }
      ]
    },
    {
      "cell_type": "code",
      "source": [
        "kdrama_corpus[0]"
      ],
      "metadata": {
        "colab": {
          "base_uri": "https://localhost:8080/",
          "height": 71
        },
        "id": "EJV5Cj6leDnR",
        "outputId": "fddaac29-0623-4a26-9fd2-b1dfba1b0e6e"
      },
      "execution_count": 79,
      "outputs": [
        {
          "output_type": "execute_result",
          "data": {
            "text/plain": [
              "'life drama family lee je hoon tang jun sang hong seung hee jung suk yong jung young joo lee moon shik autism uncle nephew relationship death savant syndrome mourning tearjerker father son relationship life lesson ex convict cleaning organizing'"
            ],
            "application/vnd.google.colaboratory.intrinsic+json": {
              "type": "string"
            }
          },
          "metadata": {},
          "execution_count": 79
        }
      ]
    },
    {
      "cell_type": "code",
      "source": [
        "from tensorflow.keras.preprocessing.text import one_hot\n",
        "\n",
        "vocab_size = 10000\n",
        "one_hot_repr = [one_hot(sent, vocab_size) for sent in kdrama_corpus]\n",
        "one_hot_repr[0]"
      ],
      "metadata": {
        "id": "9GI_V1tIiw8I",
        "colab": {
          "base_uri": "https://localhost:8080/"
        },
        "outputId": "b1aef36d-de5d-4840-95d4-73d6a0b0b6f8"
      },
      "execution_count": 80,
      "outputs": [
        {
          "output_type": "execute_result",
          "data": {
            "text/plain": [
              "[2515,\n",
              " 709,\n",
              " 8342,\n",
              " 4661,\n",
              " 6953,\n",
              " 6919,\n",
              " 1257,\n",
              " 1276,\n",
              " 7552,\n",
              " 8686,\n",
              " 6385,\n",
              " 6347,\n",
              " 7040,\n",
              " 1002,\n",
              " 6962,\n",
              " 7040,\n",
              " 8896,\n",
              " 2590,\n",
              " 4661,\n",
              " 1060,\n",
              " 6348,\n",
              " 9479,\n",
              " 6461,\n",
              " 2581,\n",
              " 3516,\n",
              " 3159,\n",
              " 2624,\n",
              " 2322,\n",
              " 2318,\n",
              " 7515,\n",
              " 52,\n",
              " 8176,\n",
              " 3516,\n",
              " 2515,\n",
              " 6787,\n",
              " 5449,\n",
              " 7075,\n",
              " 3718,\n",
              " 5553]"
            ]
          },
          "metadata": {},
          "execution_count": 80
        }
      ]
    },
    {
      "cell_type": "code",
      "source": [
        "from tensorflow.keras.preprocessing.sequence import pad_sequences\n",
        "\n",
        "max_length = max(len(seq) for seq in kdrama_corpus)\n",
        "padded_docs = pad_sequences(one_hot_repr, maxlen = max_length, padding = 'post')\n",
        "padded_docs[0]"
      ],
      "metadata": {
        "colab": {
          "base_uri": "https://localhost:8080/"
        },
        "id": "9qhA6xuGB1dz",
        "outputId": "d9f40cb7-6d73-4ba2-c1b6-0b2ef3f62aa2"
      },
      "execution_count": 81,
      "outputs": [
        {
          "output_type": "execute_result",
          "data": {
            "text/plain": [
              "array([2515,  709, 8342, 4661, 6953, 6919, 1257, 1276, 7552, 8686, 6385,\n",
              "       6347, 7040, 1002, 6962, 7040, 8896, 2590, 4661, 1060, 6348, 9479,\n",
              "       6461, 2581, 3516, 3159, 2624, 2322, 2318, 7515,   52, 8176, 3516,\n",
              "       2515, 6787, 5449, 7075, 3718, 5553,    0,    0,    0,    0,    0,\n",
              "          0,    0,    0,    0,    0,    0,    0,    0,    0,    0,    0,\n",
              "          0,    0,    0,    0,    0,    0,    0,    0,    0,    0,    0,\n",
              "          0,    0,    0,    0,    0,    0,    0,    0,    0,    0,    0,\n",
              "          0,    0,    0,    0,    0,    0,    0,    0,    0,    0,    0,\n",
              "          0,    0,    0,    0,    0,    0,    0,    0,    0,    0,    0,\n",
              "          0,    0,    0,    0,    0,    0,    0,    0,    0,    0,    0,\n",
              "          0,    0,    0,    0,    0,    0,    0,    0,    0,    0,    0,\n",
              "          0,    0,    0,    0,    0,    0,    0,    0,    0,    0,    0,\n",
              "          0,    0,    0,    0,    0,    0,    0,    0,    0,    0,    0,\n",
              "          0,    0,    0,    0,    0,    0,    0,    0,    0,    0,    0,\n",
              "          0,    0,    0,    0,    0,    0,    0,    0,    0,    0,    0,\n",
              "          0,    0,    0,    0,    0,    0,    0,    0,    0,    0,    0,\n",
              "          0,    0,    0,    0,    0,    0,    0,    0,    0,    0,    0,\n",
              "          0,    0,    0,    0,    0,    0,    0,    0,    0,    0,    0,\n",
              "          0,    0,    0,    0,    0,    0,    0,    0,    0,    0,    0,\n",
              "          0,    0,    0,    0,    0,    0,    0,    0,    0,    0,    0,\n",
              "          0,    0,    0,    0,    0,    0,    0,    0,    0,    0,    0,\n",
              "          0,    0,    0,    0,    0,    0,    0,    0,    0,    0,    0,\n",
              "          0,    0,    0,    0,    0,    0,    0,    0,    0,    0,    0,\n",
              "          0,    0,    0,    0,    0,    0,    0,    0,    0,    0,    0,\n",
              "          0,    0,    0,    0,    0,    0,    0,    0,    0,    0,    0,\n",
              "          0,    0,    0,    0,    0,    0,    0,    0,    0,    0,    0,\n",
              "          0,    0,    0,    0,    0,    0,    0,    0,    0,    0,    0,\n",
              "          0,    0,    0,    0,    0,    0,    0,    0,    0,    0,    0,\n",
              "          0,    0,    0,    0,    0,    0,    0,    0,    0,    0,    0,\n",
              "          0,    0,    0,    0,    0,    0,    0,    0,    0,    0,    0,\n",
              "          0,    0,    0,    0,    0,    0,    0,    0,    0,    0,    0,\n",
              "          0,    0,    0,    0,    0,    0,    0,    0,    0,    0,    0,\n",
              "          0,    0,    0,    0,    0,    0,    0,    0,    0,    0,    0,\n",
              "          0,    0,    0,    0,    0,    0,    0,    0,    0,    0,    0,\n",
              "          0,    0,    0,    0,    0,    0,    0,    0,    0,    0,    0,\n",
              "          0,    0,    0,    0,    0,    0,    0,    0,    0,    0,    0,\n",
              "          0,    0,    0,    0,    0,    0,    0,    0,    0,    0,    0,\n",
              "          0,    0,    0,    0,    0,    0,    0,    0,    0,    0,    0,\n",
              "          0,    0,    0,    0,    0,    0,    0,    0,    0,    0,    0,\n",
              "          0,    0,    0,    0,    0,    0,    0,    0,    0,    0,    0,\n",
              "          0,    0,    0,    0,    0,    0,    0,    0,    0,    0,    0,\n",
              "          0,    0,    0,    0,    0,    0,    0,    0,    0,    0,    0,\n",
              "          0,    0,    0,    0,    0,    0,    0,    0,    0,    0,    0,\n",
              "          0,    0,    0,    0,    0,    0,    0,    0,    0,    0,    0,\n",
              "          0,    0,    0,    0,    0,    0,    0,    0,    0,    0,    0,\n",
              "          0,    0,    0,    0,    0,    0,    0,    0,    0,    0,    0,\n",
              "          0,    0,    0,    0,    0,    0,    0,    0,    0,    0,    0,\n",
              "          0,    0,    0,    0,    0,    0,    0,    0,    0,    0,    0,\n",
              "          0,    0,    0,    0,    0,    0,    0,    0,    0,    0,    0,\n",
              "          0,    0,    0,    0,    0,    0,    0,    0,    0,    0,    0,\n",
              "          0,    0,    0,    0,    0,    0,    0,    0,    0,    0,    0,\n",
              "          0,    0,    0,    0,    0,    0,    0,    0,    0,    0,    0,\n",
              "          0,    0,    0,    0,    0,    0,    0,    0,    0,    0,    0,\n",
              "          0,    0,    0,    0,    0,    0,    0,    0,    0,    0,    0,\n",
              "          0,    0,    0,    0,    0,    0,    0,    0,    0,    0,    0,\n",
              "          0,    0,    0,    0,    0,    0,    0,    0,    0,    0,    0,\n",
              "          0,    0,    0,    0,    0,    0,    0,    0,    0,    0,    0,\n",
              "          0,    0,    0,    0,    0,    0,    0,    0,    0,    0,    0,\n",
              "          0,    0,    0,    0,    0,    0,    0,    0,    0,    0,    0,\n",
              "          0,    0,    0,    0,    0,    0,    0,    0,    0,    0,    0,\n",
              "          0,    0,    0,    0,    0,    0,    0,    0,    0,    0,    0,\n",
              "          0,    0,    0,    0,    0,    0,    0,    0,    0,    0,    0,\n",
              "          0,    0,    0,    0,    0,    0,    0,    0,    0,    0,    0,\n",
              "          0,    0,    0,    0,    0,    0,    0,    0,    0,    0,    0,\n",
              "          0,    0,    0,    0,    0,    0,    0,    0,    0,    0,    0,\n",
              "          0,    0,    0,    0,    0,    0,    0,    0,    0,    0,    0,\n",
              "          0,    0,    0,    0,    0,    0,    0,    0,    0,    0,    0,\n",
              "          0,    0,    0,    0,    0,    0,    0,    0,    0,    0,    0,\n",
              "          0,    0,    0,    0,    0,    0,    0,    0,    0,    0,    0,\n",
              "          0,    0,    0,    0,    0,    0,    0,    0,    0,    0,    0,\n",
              "          0,    0,    0,    0,    0,    0,    0,    0,    0,    0,    0,\n",
              "          0,    0,    0,    0,    0,    0,    0,    0,    0,    0,    0,\n",
              "          0,    0,    0,    0,    0,    0,    0,    0,    0,    0,    0,\n",
              "          0,    0,    0,    0,    0,    0,    0,    0,    0,    0,    0,\n",
              "          0,    0,    0,    0,    0,    0,    0,    0,    0,    0,    0,\n",
              "          0,    0,    0,    0,    0,    0,    0,    0,    0,    0,    0,\n",
              "          0,    0,    0,    0,    0,    0,    0,    0,    0,    0,    0,\n",
              "          0,    0,    0,    0,    0,    0,    0,    0,    0,    0,    0,\n",
              "          0,    0,    0,    0,    0,    0,    0,    0,    0,    0,    0,\n",
              "          0,    0,    0,    0,    0,    0,    0,    0,    0,    0,    0,\n",
              "          0,    0,    0,    0,    0,    0,    0,    0,    0,    0,    0,\n",
              "          0,    0,    0,    0,    0,    0,    0,    0,    0,    0,    0,\n",
              "          0,    0,    0,    0,    0,    0,    0,    0,    0,    0,    0,\n",
              "          0,    0,    0,    0,    0,    0,    0,    0,    0,    0,    0,\n",
              "          0,    0,    0,    0,    0,    0,    0,    0,    0,    0,    0],\n",
              "      dtype=int32)"
            ]
          },
          "metadata": {},
          "execution_count": 81
        }
      ]
    },
    {
      "cell_type": "code",
      "source": [
        "max_length"
      ],
      "metadata": {
        "colab": {
          "base_uri": "https://localhost:8080/"
        },
        "id": "EN_8EcBwC5hY",
        "outputId": "35716b8a-7545-411f-f2c4-2bb432c9d19c"
      },
      "execution_count": 82,
      "outputs": [
        {
          "output_type": "execute_result",
          "data": {
            "text/plain": [
              "935"
            ]
          },
          "metadata": {},
          "execution_count": 82
        }
      ]
    },
    {
      "cell_type": "code",
      "source": [
        "from tensorflow.keras.layers import Embedding\n",
        "from tensorflow.keras.models import Sequential\n",
        "\n",
        "embedding_dimension = 10\n",
        "model = Sequential()\n",
        "model.add(Embedding(vocab_size, embedding_dimension, input_length = max_length))\n",
        "model.compile('adam', 'mse')\n",
        "model.summary()"
      ],
      "metadata": {
        "colab": {
          "base_uri": "https://localhost:8080/",
          "height": 222
        },
        "id": "jFq99aG6C8Da",
        "outputId": "6f955396-4773-45b9-fc8d-2803d83e3e3b"
      },
      "execution_count": 83,
      "outputs": [
        {
          "output_type": "stream",
          "name": "stderr",
          "text": [
            "/usr/local/lib/python3.10/dist-packages/keras/src/layers/core/embedding.py:90: UserWarning: Argument `input_length` is deprecated. Just remove it.\n",
            "  warnings.warn(\n"
          ]
        },
        {
          "output_type": "display_data",
          "data": {
            "text/plain": [
              "\u001b[1mModel: \"sequential_3\"\u001b[0m\n"
            ],
            "text/html": [
              "<pre style=\"white-space:pre;overflow-x:auto;line-height:normal;font-family:Menlo,'DejaVu Sans Mono',consolas,'Courier New',monospace\"><span style=\"font-weight: bold\">Model: \"sequential_3\"</span>\n",
              "</pre>\n"
            ]
          },
          "metadata": {}
        },
        {
          "output_type": "display_data",
          "data": {
            "text/plain": [
              "┏━━━━━━━━━━━━━━━━━━━━━━━━━━━━━━━━━━━━━━┳━━━━━━━━━━━━━━━━━━━━━━━━━━━━━┳━━━━━━━━━━━━━━━━━┓\n",
              "┃\u001b[1m \u001b[0m\u001b[1mLayer (type)                        \u001b[0m\u001b[1m \u001b[0m┃\u001b[1m \u001b[0m\u001b[1mOutput Shape               \u001b[0m\u001b[1m \u001b[0m┃\u001b[1m \u001b[0m\u001b[1m        Param #\u001b[0m\u001b[1m \u001b[0m┃\n",
              "┡━━━━━━━━━━━━━━━━━━━━━━━━━━━━━━━━━━━━━━╇━━━━━━━━━━━━━━━━━━━━━━━━━━━━━╇━━━━━━━━━━━━━━━━━┩\n",
              "│ embedding_3 (\u001b[38;5;33mEmbedding\u001b[0m)              │ ?                           │     \u001b[38;5;34m0\u001b[0m (unbuilt) │\n",
              "└──────────────────────────────────────┴─────────────────────────────┴─────────────────┘\n"
            ],
            "text/html": [
              "<pre style=\"white-space:pre;overflow-x:auto;line-height:normal;font-family:Menlo,'DejaVu Sans Mono',consolas,'Courier New',monospace\">┏━━━━━━━━━━━━━━━━━━━━━━━━━━━━━━━━━━━━━━┳━━━━━━━━━━━━━━━━━━━━━━━━━━━━━┳━━━━━━━━━━━━━━━━━┓\n",
              "┃<span style=\"font-weight: bold\"> Layer (type)                         </span>┃<span style=\"font-weight: bold\"> Output Shape                </span>┃<span style=\"font-weight: bold\">         Param # </span>┃\n",
              "┡━━━━━━━━━━━━━━━━━━━━━━━━━━━━━━━━━━━━━━╇━━━━━━━━━━━━━━━━━━━━━━━━━━━━━╇━━━━━━━━━━━━━━━━━┩\n",
              "│ embedding_3 (<span style=\"color: #0087ff; text-decoration-color: #0087ff\">Embedding</span>)              │ ?                           │     <span style=\"color: #00af00; text-decoration-color: #00af00\">0</span> (unbuilt) │\n",
              "└──────────────────────────────────────┴─────────────────────────────┴─────────────────┘\n",
              "</pre>\n"
            ]
          },
          "metadata": {}
        },
        {
          "output_type": "display_data",
          "data": {
            "text/plain": [
              "\u001b[1m Total params: \u001b[0m\u001b[38;5;34m0\u001b[0m (0.00 B)\n"
            ],
            "text/html": [
              "<pre style=\"white-space:pre;overflow-x:auto;line-height:normal;font-family:Menlo,'DejaVu Sans Mono',consolas,'Courier New',monospace\"><span style=\"font-weight: bold\"> Total params: </span><span style=\"color: #00af00; text-decoration-color: #00af00\">0</span> (0.00 B)\n",
              "</pre>\n"
            ]
          },
          "metadata": {}
        },
        {
          "output_type": "display_data",
          "data": {
            "text/plain": [
              "\u001b[1m Trainable params: \u001b[0m\u001b[38;5;34m0\u001b[0m (0.00 B)\n"
            ],
            "text/html": [
              "<pre style=\"white-space:pre;overflow-x:auto;line-height:normal;font-family:Menlo,'DejaVu Sans Mono',consolas,'Courier New',monospace\"><span style=\"font-weight: bold\"> Trainable params: </span><span style=\"color: #00af00; text-decoration-color: #00af00\">0</span> (0.00 B)\n",
              "</pre>\n"
            ]
          },
          "metadata": {}
        },
        {
          "output_type": "display_data",
          "data": {
            "text/plain": [
              "\u001b[1m Non-trainable params: \u001b[0m\u001b[38;5;34m0\u001b[0m (0.00 B)\n"
            ],
            "text/html": [
              "<pre style=\"white-space:pre;overflow-x:auto;line-height:normal;font-family:Menlo,'DejaVu Sans Mono',consolas,'Courier New',monospace\"><span style=\"font-weight: bold\"> Non-trainable params: </span><span style=\"color: #00af00; text-decoration-color: #00af00\">0</span> (0.00 B)\n",
              "</pre>\n"
            ]
          },
          "metadata": {}
        }
      ]
    },
    {
      "cell_type": "code",
      "source": [
        "embeddings = model.predict(padded_docs)\n",
        "embeddings[0]"
      ],
      "metadata": {
        "colab": {
          "base_uri": "https://localhost:8080/"
        },
        "id": "j6vDoiMSD6DG",
        "outputId": "ab4f4028-46e5-49ee-abaa-e196f24a8147"
      },
      "execution_count": 84,
      "outputs": [
        {
          "output_type": "stream",
          "name": "stderr",
          "text": [
            "WARNING:tensorflow:5 out of the last 17 calls to <function TensorFlowTrainer.make_predict_function.<locals>.one_step_on_data_distributed at 0x78b7114a0af0> triggered tf.function retracing. Tracing is expensive and the excessive number of tracings could be due to (1) creating @tf.function repeatedly in a loop, (2) passing tensors with different shapes, (3) passing Python objects instead of tensors. For (1), please define your @tf.function outside of the loop. For (2), @tf.function has reduce_retracing=True option that can avoid unnecessary retracing. For (3), please refer to https://www.tensorflow.org/guide/function#controlling_retracing and https://www.tensorflow.org/api_docs/python/tf/function for  more details.\n"
          ]
        },
        {
          "output_type": "stream",
          "name": "stdout",
          "text": [
            "\u001b[1m8/8\u001b[0m \u001b[32m━━━━━━━━━━━━━━━━━━━━\u001b[0m\u001b[37m\u001b[0m \u001b[1m0s\u001b[0m 15ms/step\n"
          ]
        },
        {
          "output_type": "execute_result",
          "data": {
            "text/plain": [
              "array([[ 0.03170756, -0.00305394,  0.0017276 , ..., -0.0147028 ,\n",
              "        -0.04808709, -0.04092104],\n",
              "       [-0.01012785,  0.02093926,  0.03652493, ..., -0.02720459,\n",
              "         0.0087013 , -0.01570817],\n",
              "       [-0.04840249,  0.04500215,  0.01749127, ..., -0.0350848 ,\n",
              "        -0.01338469, -0.04396091],\n",
              "       ...,\n",
              "       [-0.04322326, -0.02333865,  0.03717582, ...,  0.02122513,\n",
              "        -0.04080587, -0.02918975],\n",
              "       [-0.04322326, -0.02333865,  0.03717582, ...,  0.02122513,\n",
              "        -0.04080587, -0.02918975],\n",
              "       [-0.04322326, -0.02333865,  0.03717582, ...,  0.02122513,\n",
              "        -0.04080587, -0.02918975]], dtype=float32)"
            ]
          },
          "metadata": {},
          "execution_count": 84
        }
      ]
    },
    {
      "cell_type": "code",
      "source": [
        "kdrama_df['Name'].tolist()"
      ],
      "metadata": {
        "colab": {
          "base_uri": "https://localhost:8080/"
        },
        "id": "nCRVp4BuRgNQ",
        "outputId": "65a336e6-0d96-4e80-fcf1-6021933c3bf4"
      },
      "execution_count": 85,
      "outputs": [
        {
          "output_type": "execute_result",
          "data": {
            "text/plain": [
              "['Move to Heaven',\n",
              " 'Flower of Evil',\n",
              " 'Hospital Playlist',\n",
              " 'Hospital Playlist 2',\n",
              " 'My Mister',\n",
              " 'Reply 1988',\n",
              " 'Weak Hero Class 1',\n",
              " 'Prison Playbook',\n",
              " 'Alchemy of Souls',\n",
              " 'Extraordinary Attorney Woo',\n",
              " 'Mr. Queen',\n",
              " 'Mother',\n",
              " \"It's Okay to Not Be Okay\",\n",
              " 'Crash Landing on You',\n",
              " 'Vincenzo',\n",
              " 'Navillera',\n",
              " 'Signal',\n",
              " 'Mr. Sunshine',\n",
              " 'Happiness',\n",
              " 'Kingdom: Season 2',\n",
              " 'SKY Castle',\n",
              " 'Tomorrow',\n",
              " 'Healer',\n",
              " 'Stranger',\n",
              " 'Twenty-Five Twenty-One',\n",
              " 'The Red Sleeve',\n",
              " 'Goblin',\n",
              " 'The Uncanny Counter',\n",
              " 'Mouse',\n",
              " 'Kingdom',\n",
              " 'Weightlifting Fairy Kim Bok Joo',\n",
              " 'D.P.',\n",
              " 'The Devil Judge',\n",
              " 'The Penthouse',\n",
              " 'Youth of May',\n",
              " 'Taxi Driver',\n",
              " 'Life on Mars',\n",
              " 'Beyond Evil',\n",
              " 'Racket Boys',\n",
              " 'Hometown Cha-Cha-Cha',\n",
              " 'Six Flying Dragons',\n",
              " 'Our Beloved Summer',\n",
              " 'The Guest',\n",
              " 'Dear My Friends',\n",
              " 'While You Were Sleeping',\n",
              " 'The Penthouse 2',\n",
              " 'Chicago Typewriter',\n",
              " '18 Again',\n",
              " 'Arthdal Chronicles Part 2',\n",
              " 'Arthdal Chronicles Part 3',\n",
              " 'Through the Darkness',\n",
              " 'Dr. Romantic 2',\n",
              " 'Defendant',\n",
              " 'Our Blues',\n",
              " 'Sweet Home',\n",
              " 'Kill Me, Heal Me',\n",
              " 'Moon Lovers',\n",
              " 'A Business Proposal',\n",
              " 'Misaeng',\n",
              " 'Strong Woman Do Bong Soon',\n",
              " 'The Fiery Priest',\n",
              " 'My Name',\n",
              " 'Hotel del Luna',\n",
              " 'Hot Stove League',\n",
              " 'Dr. Romantic',\n",
              " 'Descendants of the Sun',\n",
              " 'Law School',\n",
              " 'Strangers from Hell',\n",
              " 'Live',\n",
              " 'Tunnel',\n",
              " 'My Liberation Notes',\n",
              " 'Partners for Justice 2',\n",
              " 'Jewel in the Palace',\n",
              " \"It's Okay, That's Love\",\n",
              " 'Little Women',\n",
              " 'Ghost Doctor',\n",
              " 'Eulachacha Waikiki',\n",
              " 'The Bridal Mask',\n",
              " 'Children of Nobody',\n",
              " 'Good Manager',\n",
              " 'The King of Pigs',\n",
              " 'Big Mouth',\n",
              " 'Go Back Couple',\n",
              " 'Empress Ki',\n",
              " 'My Father is Strange',\n",
              " 'Once Again',\n",
              " 'Missing',\n",
              " 'Stranger 2',\n",
              " 'Designated Survivor',\n",
              " 'Juvenile Justice',\n",
              " 'Cruel City',\n",
              " 'My Love from the Star',\n",
              " 'Mystic Pop-Up Bar',\n",
              " 'Age of Youth',\n",
              " 'Just Between Lovers',\n",
              " 'Save Me',\n",
              " 'Bad and Crazy',\n",
              " '365',\n",
              " \"The Master's Sun\",\n",
              " 'Avengers Social Club',\n",
              " 'Rebel',\n",
              " 'Nobody Knows',\n",
              " 'Bad Guys',\n",
              " 'Beautiful World',\n",
              " 'Arthdal Chronicles Part 1',\n",
              " 'Kairos',\n",
              " 'I Hear Your Voice',\n",
              " \"What's Wrong with Secretary Kim\",\n",
              " 'Vagabond',\n",
              " 'One Ordinary Day',\n",
              " 'Reply 1997',\n",
              " 'Doctor John',\n",
              " 'Hi Bye, Mama!',\n",
              " 'Voice',\n",
              " 'Fight For My Way',\n",
              " 'Squid Game',\n",
              " 'W',\n",
              " 'Queen Seon Duk',\n",
              " 'Mad for Each Other',\n",
              " 'Dali and the Cocky Prince',\n",
              " 'Thirty But Seventeen',\n",
              " 'When the Camellia Blooms',\n",
              " 'Be Melodramatic',\n",
              " 'Itaewon Class',\n",
              " 'Snowdrop',\n",
              " 'Circle',\n",
              " 'Because This Is My First Life',\n",
              " \"The Princess's Man\",\n",
              " 'Blind',\n",
              " 'Two Weeks',\n",
              " 'Work Later, Drink Now',\n",
              " 'Dong Yi',\n",
              " 'Gaus Electronics',\n",
              " \"Angel's Last Mission: Love\",\n",
              " 'The World of the Married',\n",
              " 'All of Us Are Dead',\n",
              " 'Extracurricular',\n",
              " \"Yumi's Cells\",\n",
              " 'Lost',\n",
              " \"Queen In Hyun's Man\",\n",
              " 'One Dollar Lawyer',\n",
              " 'If You Wish Upon Me',\n",
              " \"I'm Not a Robot\",\n",
              " 'Memorist',\n",
              " 'Voice 2',\n",
              " 'Doom at Your Service',\n",
              " 'Duel',\n",
              " 'Search: WWW',\n",
              " 'From Now On, Showtime!',\n",
              " 'Hello Monster',\n",
              " 'Moon Embracing the Sun',\n",
              " 'Train',\n",
              " 'Sh**ting Stars',\n",
              " 'The Crowned Clown',\n",
              " 'Mad Dog',\n",
              " 'Birthcare Center',\n",
              " 'Nine: Nine Times Time Travel',\n",
              " 'Extraordinary You',\n",
              " 'Pinocchio',\n",
              " 'Doctor Prisoner',\n",
              " 'Love All Play',\n",
              " 'My Unfamiliar Family',\n",
              " 'Her Private Life',\n",
              " 'Age of Youth 2',\n",
              " 'Secret',\n",
              " 'Military Prosecutor Doberman',\n",
              " 'Pachinko',\n",
              " 'My Roommate Is a Gumiho',\n",
              " \"Yumi's Cells 2\",\n",
              " 'My Country: The New Age',\n",
              " 'Sell Your Haunted House',\n",
              " 'Player',\n",
              " 'The Legend of the Blue Sea',\n",
              " 'Come and Hug Me',\n",
              " 'Partners for Justice',\n",
              " 'Seasons of Blossom',\n",
              " 'The Tale of Nokdu',\n",
              " 'Psychopath Diary',\n",
              " 'The Beauty Inside',\n",
              " 'Tale of the Nine-Tailed',\n",
              " 'The Good Detective',\n",
              " 'He Is Psychometric',\n",
              " 'One Spring Night',\n",
              " 'Soundtrack #1',\n",
              " 'City Hunter',\n",
              " 'Class of Lies',\n",
              " '100 Days My Prince',\n",
              " 'At a Distance, Spring Is Green',\n",
              " 'Lie After Lie',\n",
              " 'The Sound of Magic',\n",
              " 'The Mysterious Class',\n",
              " 'Good Doctor',\n",
              " \"It's Okay, That's Friendship\",\n",
              " 'Rookie Cops',\n",
              " 'True Beauty',\n",
              " 'Oh My Ghost',\n",
              " \"God's Gift: 14 Days\",\n",
              " 'The Sound of Your Heart',\n",
              " 'The Veil',\n",
              " 'Graceful Family',\n",
              " 'Gu Family Book',\n",
              " 'The Hymn of Death',\n",
              " 'Jumong',\n",
              " 'Vampire Prosecutor 2',\n",
              " 'Ugly Alert',\n",
              " 'Misty',\n",
              " 'Voice 3: City of Accomplices',\n",
              " 'Confession',\n",
              " 'Again My Life',\n",
              " 'Money Heist: Korea - Joint Economic Area - Part 1',\n",
              " 'Are You Human Too?',\n",
              " 'Run On',\n",
              " 'The Smile Has Left Your Eyes',\n",
              " 'Team Bulldog: Off-duty Investigation',\n",
              " 'The Guardians',\n",
              " 'Terius Behind Me',\n",
              " 'Hyena',\n",
              " 'Touch Your Heart',\n",
              " 'Angry Mom',\n",
              " 'Welcome 2 Life',\n",
              " 'Suspicious Partner',\n",
              " 'Mine',\n",
              " 'When the Weather Is Fine',\n",
              " 'Lawless Lawyer',\n",
              " 'Crazy Love',\n",
              " 'WATCHER',\n",
              " 'Five Enough',\n",
              " 'Amanza',\n",
              " 'Light on Me',\n",
              " 'Bulgasal: Immortal Souls',\n",
              " 'Liar Game',\n",
              " 'Tree With Deep Roots',\n",
              " '49 Days',\n",
              " 'D-Day',\n",
              " 'Awaken',\n",
              " 'Oh My Venus',\n",
              " 'Leverage',\n",
              " \"The King's Affection\",\n",
              " \"A Gentleman's Dignity\",\n",
              " 'Rookie Historian Goo Hae Ryung',\n",
              " 'Coffee Prince',\n",
              " 'Ghost',\n",
              " 'Love Playlist: Season 4',\n",
              " \"God's Quiz: Reboot\",\n",
              " 'Missing Noir M',\n",
              " 'Live Up to Your Name',\n",
              " 'Queen for Seven Days',\n",
              " 'Memory',\n",
              " 'A Korean Odyssey',\n",
              " 'Voice 4: Judgment Hour']"
            ]
          },
          "metadata": {},
          "execution_count": 85
        }
      ]
    },
    {
      "cell_type": "code",
      "source": [
        "import numpy as np\n",
        "from sklearn.metrics.pairwise import cosine_similarity\n",
        "\n",
        "def recommend(kdrama_title, top_n = 5):\n",
        "  kdrama_row = kdrama_df[kdrama_df['Name'].str.lower() == kdrama_title.lower()]\n",
        "  if kdrama_row.empty:\n",
        "    return \"Kdrama not found\"\n",
        "  kdrama_index = kdrama_row.index[0]\n",
        "  kdrama_embedding = np.mean(embeddings[kdrama_index], axis=0).reshape(1, -1)\n",
        "  all_embeddings = np.mean(embeddings, axis=1)\n",
        "  similarities = cosine_similarity(kdrama_embedding, all_embeddings).flatten()\n",
        "  recommended_indices = similarities.argsort()[-top_n-1:-1][::-1]\n",
        "  recommended_dramas = kdrama_df.iloc[recommended_indices]['Name'].tolist()\n",
        "  return recommended_dramas\n",
        "\n",
        "recommended_dramas = recommend('True Beauty', top_n = 5)\n",
        "print(recommended_dramas)"
      ],
      "metadata": {
        "colab": {
          "base_uri": "https://localhost:8080/"
        },
        "id": "jxUI8OC5FElJ",
        "outputId": "9c4b7235-daba-455a-c01d-9c8c55bdea48"
      },
      "execution_count": 89,
      "outputs": [
        {
          "output_type": "stream",
          "name": "stdout",
          "text": [
            "[\"What's Wrong with Secretary Kim\", 'When the Camellia Blooms', 'Awaken', 'Secret', 'Nine: Nine Times Time Travel']\n"
          ]
        }
      ]
    }
  ]
}